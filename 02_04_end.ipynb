{
 "cells": [
  {
   "cell_type": "markdown",
   "metadata": {
    "colab_type": "text",
    "id": "view-in-github"
   },
   "source": [
    "<a href=\"https://colab.research.google.com/github/dswh/lil_nlp_with_tensorflow/blob/main/02_04_end.ipynb\" target=\"_parent\"><img src=\"https://colab.research.google.com/assets/colab-badge.svg\" alt=\"Open In Colab\"/></a>"
   ]
  },
  {
   "cell_type": "markdown",
   "metadata": {
    "id": "lTguFckTEDWd"
   },
   "source": [
    "# Classifying News Headlines\n",
    "\n",
    "This notebook explains the classification of news headlines as sarcastic and non-sarcastic. We are using the same headlines data as used before.\n"
   ]
  },
  {
   "cell_type": "code",
   "execution_count": 1,
   "metadata": {
    "colab": {
     "base_uri": "https://localhost:8080/"
    },
    "id": "9mW3Mt2q5kL2",
    "outputId": "02bc5f8e-871c-4aa0-ce66-5dc580bca0c9"
   },
   "outputs": [
    {
     "name": "stdout",
     "output_type": "stream",
     "text": [
      "2.5.0\n"
     ]
    }
   ],
   "source": [
    "##import the required libraries and APIs\n",
    "import numpy as np\n",
    "import tensorflow as tf\n",
    "from tensorflow.keras.preprocessing.text import Tokenizer\n",
    "from tensorflow.keras.preprocessing.sequence import pad_sequences\n",
    "\n",
    "print(tf.__version__)"
   ]
  },
  {
   "cell_type": "markdown",
   "metadata": {
    "id": "2rhw0j_s5UZ2"
   },
   "source": [
    "## Downloading the News Headlines data"
   ]
  },
  {
   "cell_type": "code",
   "execution_count": 2,
   "metadata": {
    "id": "XlPflpsyyp5a"
   },
   "outputs": [],
   "source": [
    "!wget --no-check-certificate \\\n",
    "    https://storage.googleapis.com/wdd-2-node.appspot.com/x1.json \\\n",
    "    -o /tmp/headlines.json"
   ]
  },
  {
   "cell_type": "code",
   "execution_count": 3,
   "metadata": {
    "colab": {
     "base_uri": "https://localhost:8080/",
     "height": 202
    },
    "id": "qfu_3u4yWjJy",
    "outputId": "3fcbca4c-d249-4a36-c447-6a964a9443f4"
   },
   "outputs": [
    {
     "data": {
      "text/html": [
       "<div>\n",
       "<style scoped>\n",
       "    .dataframe tbody tr th:only-of-type {\n",
       "        vertical-align: middle;\n",
       "    }\n",
       "\n",
       "    .dataframe tbody tr th {\n",
       "        vertical-align: top;\n",
       "    }\n",
       "\n",
       "    .dataframe thead th {\n",
       "        text-align: right;\n",
       "    }\n",
       "</style>\n",
       "<table border=\"1\" class=\"dataframe\">\n",
       "  <thead>\n",
       "    <tr style=\"text-align: right;\">\n",
       "      <th></th>\n",
       "      <th>is_sarcastic</th>\n",
       "      <th>headline</th>\n",
       "      <th>article_link</th>\n",
       "    </tr>\n",
       "  </thead>\n",
       "  <tbody>\n",
       "    <tr>\n",
       "      <th>0</th>\n",
       "      <td>1</td>\n",
       "      <td>thirtysomething scientists unveil doomsday clo...</td>\n",
       "      <td>https://www.theonion.com/thirtysomething-scien...</td>\n",
       "    </tr>\n",
       "    <tr>\n",
       "      <th>1</th>\n",
       "      <td>0</td>\n",
       "      <td>dem rep. totally nails why congress is falling...</td>\n",
       "      <td>https://www.huffingtonpost.com/entry/donna-edw...</td>\n",
       "    </tr>\n",
       "    <tr>\n",
       "      <th>2</th>\n",
       "      <td>0</td>\n",
       "      <td>eat your veggies: 9 deliciously different recipes</td>\n",
       "      <td>https://www.huffingtonpost.com/entry/eat-your-...</td>\n",
       "    </tr>\n",
       "    <tr>\n",
       "      <th>3</th>\n",
       "      <td>1</td>\n",
       "      <td>inclement weather prevents liar from getting t...</td>\n",
       "      <td>https://local.theonion.com/inclement-weather-p...</td>\n",
       "    </tr>\n",
       "    <tr>\n",
       "      <th>4</th>\n",
       "      <td>1</td>\n",
       "      <td>mother comes pretty close to using word 'strea...</td>\n",
       "      <td>https://www.theonion.com/mother-comes-pretty-c...</td>\n",
       "    </tr>\n",
       "  </tbody>\n",
       "</table>\n",
       "</div>"
      ],
      "text/plain": [
       "   is_sarcastic                                           headline  \\\n",
       "0             1  thirtysomething scientists unveil doomsday clo...   \n",
       "1             0  dem rep. totally nails why congress is falling...   \n",
       "2             0  eat your veggies: 9 deliciously different recipes   \n",
       "3             1  inclement weather prevents liar from getting t...   \n",
       "4             1  mother comes pretty close to using word 'strea...   \n",
       "\n",
       "                                        article_link  \n",
       "0  https://www.theonion.com/thirtysomething-scien...  \n",
       "1  https://www.huffingtonpost.com/entry/donna-edw...  \n",
       "2  https://www.huffingtonpost.com/entry/eat-your-...  \n",
       "3  https://local.theonion.com/inclement-weather-p...  \n",
       "4  https://www.theonion.com/mother-comes-pretty-c...  "
      ]
     },
     "execution_count": 3,
     "metadata": {},
     "output_type": "execute_result"
    }
   ],
   "source": [
    "##read the the json file using pandas\n",
    "import pandas as pd\n",
    "\n",
    "data = pd.read_json(\"./x1.json\")\n",
    "data.head()"
   ]
  },
  {
   "cell_type": "code",
   "execution_count": 4,
   "metadata": {
    "colab": {
     "base_uri": "https://localhost:8080/"
    },
    "id": "sTSNIaUlRDzP",
    "outputId": "c87aa6d7-825e-4ac3-e977-8c0db8b57424"
   },
   "outputs": [
    {
     "name": "stdout",
     "output_type": "stream",
     "text": [
      "<class 'pandas.core.frame.DataFrame'>\n",
      "RangeIndex: 28619 entries, 0 to 28618\n",
      "Data columns (total 3 columns):\n",
      " #   Column        Non-Null Count  Dtype \n",
      "---  ------        --------------  ----- \n",
      " 0   is_sarcastic  28619 non-null  int64 \n",
      " 1   headline      28619 non-null  object\n",
      " 2   article_link  28619 non-null  object\n",
      "dtypes: int64(1), object(2)\n",
      "memory usage: 670.9+ KB\n"
     ]
    }
   ],
   "source": [
    "data.info()"
   ]
  },
  {
   "cell_type": "code",
   "execution_count": 5,
   "metadata": {
    "id": "2Q5KWU5sarBZ"
   },
   "outputs": [],
   "source": [
    "##store headlines and labels in respective lists\n",
    "headlines = list(data['headline'])\n",
    "labels = list(data['is_sarcastic'])"
   ]
  },
  {
   "cell_type": "markdown",
   "metadata": {
    "id": "XrePJ_GANUzv"
   },
   "source": [
    "## Set the parameters"
   ]
  },
  {
   "cell_type": "code",
   "execution_count": 6,
   "metadata": {
    "id": "SaOVx5_QWZJw"
   },
   "outputs": [],
   "source": [
    "##define tokenizing and padding parameters\n",
    "vocab_size = 10000\n",
    "max_length = 120\n",
    "embedding_dim = 16\n",
    "trunc_type='post'\n",
    "padding_type='post'\n",
    "oov_tok = \"<OOV>\"\n",
    "training_size = 20000"
   ]
  },
  {
   "cell_type": "markdown",
   "metadata": {
    "id": "TOa0z54JHTtq"
   },
   "source": [
    "## Splitting the training and testing set"
   ]
  },
  {
   "cell_type": "code",
   "execution_count": 7,
   "metadata": {
    "id": "iPCBLuAYWg-m"
   },
   "outputs": [],
   "source": [
    "##sentences\n",
    "training_sentences = headlines[0:training_size]\n",
    "testing_sentences = headlines[training_size:]\n",
    "\n",
    "##labels\n",
    "training_labels = labels[0:training_size]\n",
    "testing_labels = labels[training_size:]"
   ]
  },
  {
   "cell_type": "markdown",
   "metadata": {
    "id": "2YPzEKN-NnTx"
   },
   "source": [
    "## Preprocess sentences\n"
   ]
  },
  {
   "cell_type": "code",
   "execution_count": 8,
   "metadata": {
    "id": "N4k_tDKJYSCL"
   },
   "outputs": [],
   "source": [
    "tokenizer = Tokenizer(num_words=vocab_size, oov_token=oov_tok)\n",
    "tokenizer.fit_on_texts(training_sentences)\n",
    "\n",
    "word_index = tokenizer.word_index\n",
    "\n",
    "training_sequences = tokenizer.texts_to_sequences(training_sentences)\n",
    "training_padded = pad_sequences(training_sequences, maxlen=max_length, padding=padding_type, truncating=trunc_type)\n",
    "\n",
    "testing_sequences = tokenizer.texts_to_sequences(testing_sentences)\n",
    "testing_padded = pad_sequences(testing_sequences, maxlen=max_length, padding=padding_type, truncating=trunc_type)"
   ]
  },
  {
   "cell_type": "code",
   "execution_count": 9,
   "metadata": {
    "id": "hFZGH6WXeZAZ"
   },
   "outputs": [],
   "source": [
    "# convert lists into numpy arrays to make it work with TensorFlow 2.x\n",
    "training_padded = np.array(training_padded)\n",
    "training_labels = np.array(training_labels)\n",
    "testing_padded = np.array(testing_padded)\n",
    "testing_labels = np.array(testing_labels)"
   ]
  },
  {
   "cell_type": "markdown",
   "metadata": {
    "id": "ZpBlIwAz7InY"
   },
   "source": [
    "## Define the neural network model with the following layers:\n",
    "1. Embedding layer\n",
    "2. Global Average pooling layer(1D)\n",
    "3. Dense layer with 24 nodes\n",
    "4. Output Dense layer with `sigmoid` activation "
   ]
  },
  {
   "cell_type": "code",
   "execution_count": 14,
   "metadata": {
    "id": "JdDjMIDFebsD"
   },
   "outputs": [],
   "source": [
    "model = tf.keras.Sequential([\n",
    "    tf.keras.layers.Embedding(vocab_size, embedding_dim, input_length=max_length),\n",
    "    tf.keras.layers.GlobalAveragePooling1D(),\n",
    "    tf.keras.layers.Dense(24, activation='relu'),\n",
    "    tf.keras.layers.Dense(1, activation='softmax')\n",
    "])\n",
    "\n",
    "##compile the model\n",
    "model.compile(loss='binary_crossentropy',optimizer='adam',metrics=['accuracy'])"
   ]
  },
  {
   "cell_type": "code",
   "execution_count": 15,
   "metadata": {
    "colab": {
     "base_uri": "https://localhost:8080/"
    },
    "id": "si5PeFv4ed5J",
    "outputId": "4958ca25-5108-4c9a-fd71-3f848c0f4c10"
   },
   "outputs": [
    {
     "name": "stdout",
     "output_type": "stream",
     "text": [
      "Model: \"sequential_1\"\n",
      "_________________________________________________________________\n",
      "Layer (type)                 Output Shape              Param #   \n",
      "=================================================================\n",
      "embedding_1 (Embedding)      (None, 120, 16)           160000    \n",
      "_________________________________________________________________\n",
      "global_average_pooling1d_1 ( (None, 16)                0         \n",
      "_________________________________________________________________\n",
      "dense_2 (Dense)              (None, 24)                408       \n",
      "_________________________________________________________________\n",
      "dense_3 (Dense)              (None, 1)                 25        \n",
      "=================================================================\n",
      "Total params: 160,433\n",
      "Trainable params: 160,433\n",
      "Non-trainable params: 0\n",
      "_________________________________________________________________\n"
     ]
    }
   ],
   "source": [
    "model.summary()"
   ]
  },
  {
   "cell_type": "markdown",
   "metadata": {
    "id": "q4Sk9WRYHbRh"
   },
   "source": [
    "## Train the model\n",
    "\n",
    "Save it into history"
   ]
  },
  {
   "cell_type": "code",
   "execution_count": 16,
   "metadata": {
    "colab": {
     "base_uri": "https://localhost:8080/"
    },
    "id": "uuejoPk0efeb",
    "outputId": "fb476f42-56b6-4d74-d1bb-693dd6a588ad"
   },
   "outputs": [
    {
     "name": "stdout",
     "output_type": "stream",
     "text": [
      "Epoch 1/30\n",
      "625/625 - 7s - loss: 0.6665 - accuracy: 0.4769 - val_loss: 0.5578 - val_accuracy: 0.4751\n",
      "Epoch 2/30\n",
      "625/625 - 6s - loss: 0.4282 - accuracy: 0.4769 - val_loss: 0.3760 - val_accuracy: 0.4751\n",
      "Epoch 3/30\n",
      "625/625 - 8s - loss: 0.3187 - accuracy: 0.4769 - val_loss: 0.3550 - val_accuracy: 0.4751\n",
      "Epoch 4/30\n",
      "625/625 - 7s - loss: 0.2690 - accuracy: 0.4769 - val_loss: 0.3346 - val_accuracy: 0.4751\n",
      "Epoch 5/30\n",
      "625/625 - 6s - loss: 0.2319 - accuracy: 0.4769 - val_loss: 0.3311 - val_accuracy: 0.4751\n",
      "Epoch 6/30\n",
      "625/625 - 7s - loss: 0.2054 - accuracy: 0.4769 - val_loss: 0.3362 - val_accuracy: 0.4751\n",
      "Epoch 7/30\n",
      "625/625 - 8s - loss: 0.1828 - accuracy: 0.4769 - val_loss: 0.3464 - val_accuracy: 0.4751\n",
      "Epoch 8/30\n",
      "625/625 - 5s - loss: 0.1645 - accuracy: 0.4769 - val_loss: 0.3999 - val_accuracy: 0.4751\n",
      "Epoch 9/30\n",
      "625/625 - 6s - loss: 0.1506 - accuracy: 0.4769 - val_loss: 0.3760 - val_accuracy: 0.4751\n",
      "Epoch 10/30\n",
      "625/625 - 7s - loss: 0.1362 - accuracy: 0.4769 - val_loss: 0.3952 - val_accuracy: 0.4751\n",
      "Epoch 11/30\n",
      "625/625 - 7s - loss: 0.1225 - accuracy: 0.4769 - val_loss: 0.4156 - val_accuracy: 0.4751\n",
      "Epoch 12/30\n",
      "625/625 - 7s - loss: 0.1134 - accuracy: 0.4769 - val_loss: 0.4455 - val_accuracy: 0.4751\n",
      "Epoch 13/30\n",
      "625/625 - 8s - loss: 0.1042 - accuracy: 0.4769 - val_loss: 0.4682 - val_accuracy: 0.4751\n",
      "Epoch 14/30\n",
      "625/625 - 8s - loss: 0.0956 - accuracy: 0.4769 - val_loss: 0.4972 - val_accuracy: 0.4751\n",
      "Epoch 15/30\n",
      "625/625 - 7s - loss: 0.0900 - accuracy: 0.4769 - val_loss: 0.5238 - val_accuracy: 0.4751\n",
      "Epoch 16/30\n",
      "625/625 - 4s - loss: 0.0818 - accuracy: 0.4769 - val_loss: 0.5656 - val_accuracy: 0.4751\n",
      "Epoch 17/30\n",
      "625/625 - 3s - loss: 0.0740 - accuracy: 0.4769 - val_loss: 0.5809 - val_accuracy: 0.4751\n",
      "Epoch 18/30\n",
      "625/625 - 3s - loss: 0.0704 - accuracy: 0.4769 - val_loss: 0.6173 - val_accuracy: 0.4751\n",
      "Epoch 19/30\n",
      "625/625 - 3s - loss: 0.0657 - accuracy: 0.4769 - val_loss: 0.6505 - val_accuracy: 0.4751\n",
      "Epoch 20/30\n",
      "625/625 - 3s - loss: 0.0609 - accuracy: 0.4769 - val_loss: 0.6923 - val_accuracy: 0.4751\n",
      "Epoch 21/30\n",
      "625/625 - 3s - loss: 0.0556 - accuracy: 0.4769 - val_loss: 0.7131 - val_accuracy: 0.4751\n",
      "Epoch 22/30\n",
      "625/625 - 3s - loss: 0.0538 - accuracy: 0.4769 - val_loss: 0.7611 - val_accuracy: 0.4751\n",
      "Epoch 23/30\n",
      "625/625 - 3s - loss: 0.0469 - accuracy: 0.4769 - val_loss: 0.8044 - val_accuracy: 0.4751\n",
      "Epoch 24/30\n",
      "625/625 - 3s - loss: 0.0435 - accuracy: 0.4769 - val_loss: 0.8247 - val_accuracy: 0.4751\n",
      "Epoch 25/30\n",
      "625/625 - 3s - loss: 0.0408 - accuracy: 0.4769 - val_loss: 0.8909 - val_accuracy: 0.4751\n",
      "Epoch 26/30\n",
      "625/625 - 3s - loss: 0.0383 - accuracy: 0.4769 - val_loss: 0.8980 - val_accuracy: 0.4751\n",
      "Epoch 27/30\n",
      "625/625 - 3s - loss: 0.0357 - accuracy: 0.4769 - val_loss: 0.9705 - val_accuracy: 0.4751\n",
      "Epoch 28/30\n",
      "625/625 - 3s - loss: 0.0329 - accuracy: 0.4769 - val_loss: 0.9716 - val_accuracy: 0.4751\n",
      "Epoch 29/30\n",
      "625/625 - 3s - loss: 0.0316 - accuracy: 0.4769 - val_loss: 1.0882 - val_accuracy: 0.4751\n",
      "Epoch 30/30\n",
      "625/625 - 3s - loss: 0.0280 - accuracy: 0.4769 - val_loss: 1.0988 - val_accuracy: 0.4751\n"
     ]
    }
   ],
   "source": [
    "num_epochs = 30\n",
    "history = model.fit(training_padded, \n",
    "                    training_labels, \n",
    "                    epochs=num_epochs, \n",
    "                    validation_data=(testing_padded, testing_labels), \n",
    "                    verbose=2)"
   ]
  },
  {
   "cell_type": "markdown",
   "metadata": {
    "id": "35BigeicGmRo"
   },
   "source": [
    "## Visualise the train & validation accuracy and loss"
   ]
  },
  {
   "cell_type": "code",
   "execution_count": 17,
   "metadata": {
    "colab": {
     "base_uri": "https://localhost:8080/",
     "height": 541
    },
    "id": "iMQAQr-uehOD",
    "outputId": "676645b4-66fe-4770-ba7c-c15a51bbfb94"
   },
   "outputs": [
    {
     "data": {
      "image/png": "[encoded data removed]",
      "text/plain": [
       "<Figure size 432x288 with 1 Axes>"
      ]
     },
     "metadata": {
      "needs_background": "light"
     },
     "output_type": "display_data"
    },
    {
     "data": {
      "image/png": "[encoded data removed]",
      "text/plain": [
       "<Figure size 432x288 with 1 Axes>"
      ]
     },
     "metadata": {
      "needs_background": "light"
     },
     "output_type": "display_data"
    }
   ],
   "source": [
    "import matplotlib.pyplot as plt\n",
    "\n",
    "##plot the scores from history\n",
    "def plot_graphs(history, string):\n",
    "    plt.plot(history.history[string])\n",
    "    plt.plot(history.history['val_'+string])\n",
    "    plt.legend([string, 'val_'+string])\n",
    "    plt.xlabel(\"Epochs\")\n",
    "    plt.ylabel(string)\n",
    "    plt.show()\n",
    "\n",
    "plot_graphs(history, \"accuracy\")\n",
    "plot_graphs(history, \"loss\")"
   ]
  },
  {
   "cell_type": "markdown",
   "metadata": {
    "id": "FLuGAkBaGzaP"
   },
   "source": [
    "## Classifying a new sentence"
   ]
  },
  {
   "cell_type": "code",
   "execution_count": 18,
   "metadata": {
    "colab": {
     "base_uri": "https://localhost:8080/"
    },
    "id": "2cVc8w-tejyj",
    "outputId": "c632b8e8-4d7f-4668-adb1-def7ce500716"
   },
   "outputs": [
    {
     "name": "stdout",
     "output_type": "stream",
     "text": [
      "[[1.]\n",
      " [1.]]\n"
     ]
    }
   ],
   "source": [
    "sentence = [\"the baby boy fears spiders in the garden might be real\", \"game of thrones season finale showing this sunday night\"]\n",
    "\n",
    "##prepare the sequences of the sentences in question\n",
    "sequences = tokenizer.texts_to_sequences(sentence)\n",
    "padded_seqs = pad_sequences(sequences, maxlen=max_length, padding=padding_type, truncating=trunc_type)\n",
    "\n",
    "print(model.predict(padded_seqs))"
   ]
  },
  {
   "cell_type": "code",
   "execution_count": null,
   "metadata": {
    "id": "CwT0yxfRgZY_"
   },
   "outputs": [],
   "source": []
  }
 ],
 "metadata": {
  "colab": {
   "authorship_tag": "ABX9TyNvSRMrhKZ3g0tzFklpC0Q2",
   "collapsed_sections": [],
   "include_colab_link": true,
   "name": "02_04_end.ipynb",
   "provenance": []
  },
  "kernelspec": {
   "display_name": "Python 3",
   "language": "python",
   "name": "python3"
  },
  "language_info": {
   "codemirror_mode": {
    "name": "ipython",
    "version": 3
   },
   "file_extension": ".py",
   "mimetype": "text/x-python",
   "name": "python",
   "nbconvert_exporter": "python",
   "pygments_lexer": "ipython3",
   "version": "3.8.5"
  }
 },
 "nbformat": 4,
 "nbformat_minor": 1
}
