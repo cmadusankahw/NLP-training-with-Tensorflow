{
 "cells": [
  {
   "cell_type": "markdown",
   "metadata": {
    "colab_type": "text",
    "id": "view-in-github"
   },
   "source": [
    "<a href=\"https://colab.research.google.com/github/dswh/lil_nlp_with_tensorflow/blob/main/02_05_solution.ipynb\" target=\"_parent\"><img src=\"https://colab.research.google.com/assets/colab-badge.svg\" alt=\"Open In Colab\"/></a>"
   ]
  },
  {
   "cell_type": "markdown",
   "metadata": {
    "id": "lTguFckTEDWd"
   },
   "source": [
    "# Text Classification challenge\n",
    "\n",
    "You are required to train a deep learning model on the IMDB reviews dataset and classify a set of new reviews as positive(1) or negative(0) using the trained model."
   ]
  },
  {
   "cell_type": "code",
   "execution_count": 1,
   "metadata": {
    "colab": {
     "base_uri": "https://localhost:8080/"
    },
    "id": "9mW3Mt2q5kL2",
    "outputId": "788bfd0e-4eeb-4218-fd86-74e84c06dd3b"
   },
   "outputs": [
    {
     "name": "stdout",
     "output_type": "stream",
     "text": [
      "2.5.0\n"
     ]
    }
   ],
   "source": [
    "##import the required libraries and APIs\n",
    "import numpy as np\n",
    "import tensorflow as tf\n",
    "import tensorflow_datasets as tfds\n",
    "from tensorflow.keras.preprocessing.text import Tokenizer\n",
    "from tensorflow.keras.preprocessing.sequence import pad_sequences\n",
    "\n",
    "print(tf.__version__)"
   ]
  },
  {
   "cell_type": "markdown",
   "metadata": {
    "id": "2rhw0j_s5UZ2"
   },
   "source": [
    "## Downloading the TensorFlow `imdb_review` dataset\n",
    "\n",
    "> Make sure tensorflow_datasets is installed"
   ]
  },
  {
   "cell_type": "code",
   "execution_count": 2,
   "metadata": {
    "id": "dx_DJfb7EFHh"
   },
   "outputs": [],
   "source": [
    "##load the imdb reviews dataset\n",
    "data, info = tfds.load(\"imdb_reviews\", with_info=True, as_supervised=True)"
   ]
  },
  {
   "cell_type": "markdown",
   "metadata": {
    "id": "8MBqFTBP6DT4"
   },
   "source": [
    "## Segregating training and testing sets"
   ]
  },
  {
   "cell_type": "code",
   "execution_count": 3,
   "metadata": {
    "id": "GM2X1wLvUb8n"
   },
   "outputs": [],
   "source": [
    "##segregate training and test set\n",
    "train_data, test_data = data['train'], data['test']\n",
    "\n",
    "##create empty list to store sentences and labels\n",
    "train_sentences = []\n",
    "test_sentences = []\n",
    "\n",
    "train_labels = []\n",
    "test_labels = []"
   ]
  },
  {
   "cell_type": "code",
   "execution_count": 4,
   "metadata": {
    "id": "rxoAZl0gU_y-"
   },
   "outputs": [],
   "source": [
    "##iterate over the train data to extract sentences and labels\n",
    "for sent, label in train_data:\n",
    "    train_sentences.append(str(sent.numpy().decode('utf8')))\n",
    "    train_labels.append(label.numpy())\n",
    "\n",
    "##iterate over the test set to extract sentences and labels\n",
    "for sent, label in test_data:\n",
    "    test_sentences.append(str(sent.numpy().decode('utf8')))\n",
    "    test_labels.append(label.numpy())\n",
    "\n"
   ]
  },
  {
   "cell_type": "code",
   "execution_count": 5,
   "metadata": {
    "id": "eDKl0NzBITfe"
   },
   "outputs": [],
   "source": [
    "##convert lists into numpy array\n",
    "train_labels = np.array(train_labels)\n",
    "test_labels = np.array(test_labels)"
   ]
  },
  {
   "cell_type": "markdown",
   "metadata": {
    "id": "pLIjftvF6IRZ"
   },
   "source": [
    "## Data preparation - setting up the tokenizer"
   ]
  },
  {
   "cell_type": "code",
   "execution_count": 6,
   "metadata": {
    "id": "6Mqx-tgBVXQz"
   },
   "outputs": [],
   "source": [
    "##define the parameters for the tokenizing and padding\n",
    "vocab_size = 10000\n",
    "embedding_dim = 16\n",
    "max_length = 120\n",
    "trunc_type='post'\n",
    "oov_tok = \"<OOV>\"\n"
   ]
  },
  {
   "cell_type": "code",
   "execution_count": 7,
   "metadata": {
    "id": "nYsZatAaVmfq"
   },
   "outputs": [],
   "source": [
    "tokenizer = Tokenizer(num_words = vocab_size, oov_token=oov_tok)\n",
    "tokenizer.fit_on_texts(train_sentences)\n",
    "word_index = tokenizer.word_index\n",
    "\n",
    "##training sequences and labels\n",
    "train_seqs = tokenizer.texts_to_sequences(train_sentences)\n",
    "train_padded = pad_sequences(train_seqs, maxlen=max_length, truncating=trunc_type)\n",
    "\n",
    "##testing sequences and labels\n",
    "test_seqs = tokenizer.texts_to_sequences(test_sentences)\n",
    "test_padded = pad_sequences(test_seqs,maxlen=max_length)"
   ]
  },
  {
   "cell_type": "markdown",
   "metadata": {
    "id": "PcvfYesOIo3A"
   },
   "source": [
    "## Define the Neural Network with Embedding layer\n",
    "\n",
    "1. Use the Sequential API.\n",
    "2. Add an embedding input layer of input size equal to vocabulary size.\n",
    "3. Add a flatten layer, and two dense layers."
   ]
  },
  {
   "cell_type": "code",
   "execution_count": 8,
   "metadata": {
    "colab": {
     "base_uri": "https://localhost:8080/"
    },
    "id": "RF6ict6vWJAV",
    "outputId": "f430bd66-46ac-4554-fd00-b61593ec178e"
   },
   "outputs": [
    {
     "name": "stdout",
     "output_type": "stream",
     "text": [
      "Model: \"sequential\"\n",
      "_________________________________________________________________\n",
      "Layer (type)                 Output Shape              Param #   \n",
      "=================================================================\n",
      "embedding (Embedding)        (None, 120, 16)           160000    \n",
      "_________________________________________________________________\n",
      "global_average_pooling1d (Gl (None, 16)                0         \n",
      "_________________________________________________________________\n",
      "dense (Dense)                (None, 24)                408       \n",
      "_________________________________________________________________\n",
      "dense_1 (Dense)              (None, 1)                 25        \n",
      "=================================================================\n",
      "Total params: 160,433\n",
      "Trainable params: 160,433\n",
      "Non-trainable params: 0\n",
      "_________________________________________________________________\n"
     ]
    }
   ],
   "source": [
    "model = tf.keras.Sequential([\n",
    "    tf.keras.layers.Embedding(vocab_size, embedding_dim, input_length=max_length),\n",
    "    tf.keras.layers.GlobalAveragePooling1D(),\n",
    "    tf.keras.layers.Dense(24, activation='relu'),\n",
    "    tf.keras.layers.Dense(1, activation='sigmoid')\n",
    "])\n",
    "\n",
    "##compile the model with loss function, optimizer and metrics\n",
    "model.compile(loss='binary_crossentropy',optimizer='adam',metrics=['accuracy'])\n",
    "model.summary()\n"
   ]
  },
  {
   "cell_type": "markdown",
   "metadata": {
    "id": "hlNRXgJ99Dv9"
   },
   "source": [
    "## Model Training"
   ]
  },
  {
   "cell_type": "code",
   "execution_count": 9,
   "metadata": {
    "colab": {
     "base_uri": "https://localhost:8080/"
    },
    "id": "2S9zFDyLWZDF",
    "outputId": "ed82f0d5-be45-46df-8b4c-083c624f3276"
   },
   "outputs": [
    {
     "name": "stdout",
     "output_type": "stream",
     "text": [
      "Epoch 1/10\n",
      "782/782 [==============================] - 8s 8ms/step - loss: 0.5100 - accuracy: 0.7638 - val_loss: 0.3518 - val_accuracy: 0.8523\n",
      "Epoch 2/10\n",
      "782/782 [==============================] - 9s 11ms/step - loss: 0.3068 - accuracy: 0.8724 - val_loss: 0.3258 - val_accuracy: 0.8598\n",
      "Epoch 3/10\n",
      "782/782 [==============================] - 13s 16ms/step - loss: 0.2510 - accuracy: 0.9007 - val_loss: 0.3386 - val_accuracy: 0.8552\n",
      "Epoch 4/10\n",
      "782/782 [==============================] - 12s 16ms/step - loss: 0.2175 - accuracy: 0.9168 - val_loss: 0.3749 - val_accuracy: 0.8447\n",
      "Epoch 5/10\n",
      "782/782 [==============================] - 13s 17ms/step - loss: 0.1908 - accuracy: 0.9306 - val_loss: 0.4142 - val_accuracy: 0.8328\n",
      "Epoch 6/10\n",
      "782/782 [==============================] - 13s 16ms/step - loss: 0.1710 - accuracy: 0.9389 - val_loss: 0.4359 - val_accuracy: 0.8350\n",
      "Epoch 7/10\n",
      "782/782 [==============================] - 13s 16ms/step - loss: 0.1534 - accuracy: 0.9475 - val_loss: 0.4714 - val_accuracy: 0.8284\n",
      "Epoch 8/10\n",
      "782/782 [==============================] - 13s 17ms/step - loss: 0.1390 - accuracy: 0.9524 - val_loss: 0.5173 - val_accuracy: 0.8270\n",
      "Epoch 9/10\n",
      "782/782 [==============================] - 12s 16ms/step - loss: 0.1260 - accuracy: 0.9577 - val_loss: 0.5677 - val_accuracy: 0.8224\n",
      "Epoch 10/10\n",
      "782/782 [==============================] - 13s 16ms/step - loss: 0.1127 - accuracy: 0.9630 - val_loss: 0.6151 - val_accuracy: 0.8178\n"
     ]
    }
   ],
   "source": [
    "num_epochs = 10\n",
    "\n",
    "##train the model with training and validation set\n",
    "history = model.fit(\n",
    "    train_padded,   #training sequence\n",
    "    train_labels, # training labels\n",
    "    epochs=num_epochs, \n",
    "    validation_data=(test_padded, test_labels) # test data\n",
    "    )"
   ]
  },
  {
   "cell_type": "markdown",
   "metadata": {
    "id": "QCHKeE8Z9Gm9"
   },
   "source": [
    "## Visualise the train & validation accuracy and loss"
   ]
  },
  {
   "cell_type": "code",
   "execution_count": 10,
   "metadata": {
    "colab": {
     "base_uri": "https://localhost:8080/",
     "height": 541
    },
    "id": "_U2cCtIY9bA3",
    "outputId": "00a62d9e-caba-4567-ec2b-1aa43c9e4c23"
   },
   "outputs": [
    {
     "data": {
      "image/png": "[encoded data removed]",
      "text/plain": [
       "<Figure size 432x288 with 1 Axes>"
      ]
     },
     "metadata": {
      "needs_background": "light"
     },
     "output_type": "display_data"
    },
    {
     "data": {
      "image/png": "[encoded data removed]",
      "text/plain": [
       "<Figure size 432x288 with 1 Axes>"
      ]
     },
     "metadata": {
      "needs_background": "light"
     },
     "output_type": "display_data"
    }
   ],
   "source": [
    "import matplotlib.pyplot as plt\n",
    "\n",
    "##plot the scores from history\n",
    "def plot_metrics(history, metric):\n",
    "  plt.plot(history.history[metric])\n",
    "  plt.plot(history.history['val_'+metric])\n",
    "  plt.legend([metric, 'val_'+metric])\n",
    "  plt.xlabel(\"Epochs\")\n",
    "  plt.ylabel(metric)\n",
    "  plt.show()\n",
    "  \n",
    "##plot accuracy\n",
    "plot_metrics(history, \"accuracy\")\n",
    "\n",
    "##plot loss\n",
    "plot_metrics(history, \"loss\")"
   ]
  },
  {
   "cell_type": "markdown",
   "metadata": {
    "id": "Gy46FyKEcqxq"
   },
   "source": [
    "## Classify new reviews"
   ]
  },
  {
   "cell_type": "code",
   "execution_count": 11,
   "metadata": {
    "colab": {
     "base_uri": "https://localhost:8080/"
    },
    "id": "qCHIxcxBcuBg",
    "outputId": "a248d472-f74c-47ce-f091-930a5ea48dc0"
   },
   "outputs": [
    {
     "name": "stdout",
     "output_type": "stream",
     "text": [
      "[[0.00819814]\n",
      " [0.25735107]]\n"
     ]
    }
   ],
   "source": [
    "sentence = [\"The first part of the movie was dull and boring!\", \"We watched Queen's Gambit, all seven hours of it, in a single sitting. This show is an absolute gem.\"]\n",
    "\n",
    "##prepare the sequences of the sentences in question\n",
    "sequences = tokenizer.texts_to_sequences(sentence)\n",
    "padded_seqs = pad_sequences(sequences, maxlen=max_length, truncating=trunc_type)\n",
    "\n",
    "##print the classification score\n",
    "print(model.predict(padded_seqs))"
   ]
  },
  {
   "cell_type": "code",
   "execution_count": null,
   "metadata": {
    "id": "XOIqkYammdNS"
   },
   "outputs": [],
   "source": []
  }
 ],
 "metadata": {
  "colab": {
   "authorship_tag": "ABX9TyO2j/5M4Eg6V4yp7Ig3M95b",
   "collapsed_sections": [],
   "include_colab_link": true,
   "name": "02_05_solution.ipynb",
   "provenance": []
  },
  "kernelspec": {
   "display_name": "Python 3",
   "language": "python",
   "name": "python3"
  },
  "language_info": {
   "codemirror_mode": {
    "name": "ipython",
    "version": 3
   },
   "file_extension": ".py",
   "mimetype": "text/x-python",
   "name": "python",
   "nbconvert_exporter": "python",
   "pygments_lexer": "ipython3",
   "version": "3.8.5"
  }
 },
 "nbformat": 4,
 "nbformat_minor": 1
}
